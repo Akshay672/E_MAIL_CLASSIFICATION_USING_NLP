{
 "cells": [
  {
   "cell_type": "markdown",
   "id": "4c78f8a3",
   "metadata": {},
   "source": [
    "# E-Mail classification NLP"
   ]
  },
  {
   "cell_type": "markdown",
   "id": "d65c2d79",
   "metadata": {},
   "source": [
    "<h3>The data consists of email body and labels for text classification.</h3>\n",
    "\n",
    "1) Message body<br>\n",
    "2) Labels"
   ]
  },
  {
   "cell_type": "code",
   "execution_count": 1,
   "id": "0443c5c6",
   "metadata": {},
   "outputs": [],
   "source": [
    "#importing libraries"
   ]
  },
  {
   "cell_type": "code",
   "execution_count": 2,
   "id": "72b6cc85",
   "metadata": {},
   "outputs": [],
   "source": [
    "import pandas as pd\n",
    "import numpy as np\n",
    "import matplotlib.pyplot as plt\n",
    "import seaborn as sns\n",
    "import warnings\n",
    "warnings.filterwarnings('ignore')\n",
    "#Rest of the libraries will be imported wherver necessary"
   ]
  },
  {
   "cell_type": "code",
   "execution_count": 3,
   "id": "64dbdbff",
   "metadata": {},
   "outputs": [
    {
     "data": {
      "text/html": [
       "<div>\n",
       "<style scoped>\n",
       "    .dataframe tbody tr th:only-of-type {\n",
       "        vertical-align: middle;\n",
       "    }\n",
       "\n",
       "    .dataframe tbody tr th {\n",
       "        vertical-align: top;\n",
       "    }\n",
       "\n",
       "    .dataframe thead th {\n",
       "        text-align: right;\n",
       "    }\n",
       "</style>\n",
       "<table border=\"1\" class=\"dataframe\">\n",
       "  <thead>\n",
       "    <tr style=\"text-align: right;\">\n",
       "      <th></th>\n",
       "      <th>S. No.</th>\n",
       "      <th>Message_body</th>\n",
       "      <th>Label</th>\n",
       "    </tr>\n",
       "  </thead>\n",
       "  <tbody>\n",
       "    <tr>\n",
       "      <th>0</th>\n",
       "      <td>1</td>\n",
       "      <td>UpgrdCentre Orange customer, you may now claim...</td>\n",
       "      <td>Spam</td>\n",
       "    </tr>\n",
       "    <tr>\n",
       "      <th>1</th>\n",
       "      <td>2</td>\n",
       "      <td>Loan for any purpose £500 - £75,000. Homeowner...</td>\n",
       "      <td>Spam</td>\n",
       "    </tr>\n",
       "    <tr>\n",
       "      <th>2</th>\n",
       "      <td>3</td>\n",
       "      <td>Congrats! Nokia 3650 video camera phone is you...</td>\n",
       "      <td>Spam</td>\n",
       "    </tr>\n",
       "    <tr>\n",
       "      <th>3</th>\n",
       "      <td>4</td>\n",
       "      <td>URGENT! Your Mobile number has been awarded wi...</td>\n",
       "      <td>Spam</td>\n",
       "    </tr>\n",
       "    <tr>\n",
       "      <th>4</th>\n",
       "      <td>5</td>\n",
       "      <td>Someone has contacted our dating service and e...</td>\n",
       "      <td>Spam</td>\n",
       "    </tr>\n",
       "  </tbody>\n",
       "</table>\n",
       "</div>"
      ],
      "text/plain": [
       "   S. No.                                       Message_body Label\n",
       "0       1  UpgrdCentre Orange customer, you may now claim...  Spam\n",
       "1       2  Loan for any purpose £500 - £75,000. Homeowner...  Spam\n",
       "2       3  Congrats! Nokia 3650 video camera phone is you...  Spam\n",
       "3       4  URGENT! Your Mobile number has been awarded wi...  Spam\n",
       "4       5  Someone has contacted our dating service and e...  Spam"
      ]
     },
     "execution_count": 3,
     "metadata": {},
     "output_type": "execute_result"
    }
   ],
   "source": [
    "df=pd.read_csv('D:\\\\M. Tech in Data Science & Machine Learning\\\\Natural language processing (NLP)\\\\Sem Preparation\\\\SMS_test.csv', encoding='unicode_escape')\n",
    "df.head()#first 5 observations"
   ]
  },
  {
   "cell_type": "code",
   "execution_count": 4,
   "id": "24ab047e",
   "metadata": {},
   "outputs": [
    {
     "data": {
      "text/html": [
       "<div>\n",
       "<style scoped>\n",
       "    .dataframe tbody tr th:only-of-type {\n",
       "        vertical-align: middle;\n",
       "    }\n",
       "\n",
       "    .dataframe tbody tr th {\n",
       "        vertical-align: top;\n",
       "    }\n",
       "\n",
       "    .dataframe thead th {\n",
       "        text-align: right;\n",
       "    }\n",
       "</style>\n",
       "<table border=\"1\" class=\"dataframe\">\n",
       "  <thead>\n",
       "    <tr style=\"text-align: right;\">\n",
       "      <th></th>\n",
       "      <th>S. No.</th>\n",
       "      <th>Message_body</th>\n",
       "      <th>Label</th>\n",
       "    </tr>\n",
       "  </thead>\n",
       "  <tbody>\n",
       "    <tr>\n",
       "      <th>120</th>\n",
       "      <td>121</td>\n",
       "      <td>7 wonders in My WORLD 7th You 6th Ur style 5th...</td>\n",
       "      <td>Non-Spam</td>\n",
       "    </tr>\n",
       "    <tr>\n",
       "      <th>121</th>\n",
       "      <td>122</td>\n",
       "      <td>Try to do something dear. You read something f...</td>\n",
       "      <td>Non-Spam</td>\n",
       "    </tr>\n",
       "    <tr>\n",
       "      <th>122</th>\n",
       "      <td>123</td>\n",
       "      <td>Sun ah... Thk mayb can if dun have anythin on....</td>\n",
       "      <td>Non-Spam</td>\n",
       "    </tr>\n",
       "    <tr>\n",
       "      <th>123</th>\n",
       "      <td>124</td>\n",
       "      <td>SYMPTOMS when U are in love: \"1.U like listeni...</td>\n",
       "      <td>Non-Spam</td>\n",
       "    </tr>\n",
       "    <tr>\n",
       "      <th>124</th>\n",
       "      <td>125</td>\n",
       "      <td>Great. Have a safe trip. Dont panic surrender ...</td>\n",
       "      <td>Non-Spam</td>\n",
       "    </tr>\n",
       "  </tbody>\n",
       "</table>\n",
       "</div>"
      ],
      "text/plain": [
       "     S. No.                                       Message_body     Label\n",
       "120     121  7 wonders in My WORLD 7th You 6th Ur style 5th...  Non-Spam\n",
       "121     122  Try to do something dear. You read something f...  Non-Spam\n",
       "122     123  Sun ah... Thk mayb can if dun have anythin on....  Non-Spam\n",
       "123     124  SYMPTOMS when U are in love: \"1.U like listeni...  Non-Spam\n",
       "124     125  Great. Have a safe trip. Dont panic surrender ...  Non-Spam"
      ]
     },
     "execution_count": 4,
     "metadata": {},
     "output_type": "execute_result"
    }
   ],
   "source": [
    "df.tail()#last 5 observations"
   ]
  },
  {
   "cell_type": "code",
   "execution_count": 5,
   "id": "778488fc",
   "metadata": {},
   "outputs": [
    {
     "data": {
      "text/plain": [
       "(125, 3)"
      ]
     },
     "execution_count": 5,
     "metadata": {},
     "output_type": "execute_result"
    }
   ],
   "source": [
    "df.shape##checking total records"
   ]
  },
  {
   "cell_type": "code",
   "execution_count": 6,
   "id": "3a6fd9b8",
   "metadata": {},
   "outputs": [],
   "source": [
    "#make copy of the original dataframe"
   ]
  },
  {
   "cell_type": "code",
   "execution_count": 7,
   "id": "37d56a56",
   "metadata": {},
   "outputs": [],
   "source": [
    "df1=df.copy()"
   ]
  },
  {
   "cell_type": "code",
   "execution_count": 8,
   "id": "2ec18d1f",
   "metadata": {},
   "outputs": [],
   "source": [
    "#Step1: Lowercase"
   ]
  },
  {
   "cell_type": "code",
   "execution_count": 9,
   "id": "1ec91ea9",
   "metadata": {},
   "outputs": [
    {
     "data": {
      "text/html": [
       "<div>\n",
       "<style scoped>\n",
       "    .dataframe tbody tr th:only-of-type {\n",
       "        vertical-align: middle;\n",
       "    }\n",
       "\n",
       "    .dataframe tbody tr th {\n",
       "        vertical-align: top;\n",
       "    }\n",
       "\n",
       "    .dataframe thead th {\n",
       "        text-align: right;\n",
       "    }\n",
       "</style>\n",
       "<table border=\"1\" class=\"dataframe\">\n",
       "  <thead>\n",
       "    <tr style=\"text-align: right;\">\n",
       "      <th></th>\n",
       "      <th>S. No.</th>\n",
       "      <th>Message_body</th>\n",
       "      <th>Label</th>\n",
       "    </tr>\n",
       "  </thead>\n",
       "  <tbody>\n",
       "    <tr>\n",
       "      <th>0</th>\n",
       "      <td>1</td>\n",
       "      <td>UpgrdCentre Orange customer, you may now claim...</td>\n",
       "      <td>Spam</td>\n",
       "    </tr>\n",
       "    <tr>\n",
       "      <th>1</th>\n",
       "      <td>2</td>\n",
       "      <td>Loan for any purpose £500 - £75,000. Homeowner...</td>\n",
       "      <td>Spam</td>\n",
       "    </tr>\n",
       "    <tr>\n",
       "      <th>2</th>\n",
       "      <td>3</td>\n",
       "      <td>Congrats! Nokia 3650 video camera phone is you...</td>\n",
       "      <td>Spam</td>\n",
       "    </tr>\n",
       "    <tr>\n",
       "      <th>3</th>\n",
       "      <td>4</td>\n",
       "      <td>URGENT! Your Mobile number has been awarded wi...</td>\n",
       "      <td>Spam</td>\n",
       "    </tr>\n",
       "    <tr>\n",
       "      <th>4</th>\n",
       "      <td>5</td>\n",
       "      <td>Someone has contacted our dating service and e...</td>\n",
       "      <td>Spam</td>\n",
       "    </tr>\n",
       "  </tbody>\n",
       "</table>\n",
       "</div>"
      ],
      "text/plain": [
       "   S. No.                                       Message_body Label\n",
       "0       1  UpgrdCentre Orange customer, you may now claim...  Spam\n",
       "1       2  Loan for any purpose £500 - £75,000. Homeowner...  Spam\n",
       "2       3  Congrats! Nokia 3650 video camera phone is you...  Spam\n",
       "3       4  URGENT! Your Mobile number has been awarded wi...  Spam\n",
       "4       5  Someone has contacted our dating service and e...  Spam"
      ]
     },
     "execution_count": 9,
     "metadata": {},
     "output_type": "execute_result"
    }
   ],
   "source": [
    "df1.head()"
   ]
  },
  {
   "cell_type": "code",
   "execution_count": 10,
   "id": "4d9d6e0f",
   "metadata": {},
   "outputs": [],
   "source": [
    "df1['New_Message_body']=df1['Message_body'].str.lower().str.replace('[^a-z\\s]','')\n",
    "#str.lower() : converting to lowercase (to bring all the same words in same format)\n",
    "## str.replace: replace everything other than alphabets and space"
   ]
  },
  {
   "cell_type": "code",
   "execution_count": 11,
   "id": "019d42ad",
   "metadata": {},
   "outputs": [
    {
     "data": {
      "text/html": [
       "<div>\n",
       "<style scoped>\n",
       "    .dataframe tbody tr th:only-of-type {\n",
       "        vertical-align: middle;\n",
       "    }\n",
       "\n",
       "    .dataframe tbody tr th {\n",
       "        vertical-align: top;\n",
       "    }\n",
       "\n",
       "    .dataframe thead th {\n",
       "        text-align: right;\n",
       "    }\n",
       "</style>\n",
       "<table border=\"1\" class=\"dataframe\">\n",
       "  <thead>\n",
       "    <tr style=\"text-align: right;\">\n",
       "      <th></th>\n",
       "      <th>S. No.</th>\n",
       "      <th>Message_body</th>\n",
       "      <th>Label</th>\n",
       "      <th>New_Message_body</th>\n",
       "    </tr>\n",
       "  </thead>\n",
       "  <tbody>\n",
       "    <tr>\n",
       "      <th>0</th>\n",
       "      <td>1</td>\n",
       "      <td>UpgrdCentre Orange customer, you may now claim...</td>\n",
       "      <td>Spam</td>\n",
       "      <td>upgrdcentre orange customer you may now claim ...</td>\n",
       "    </tr>\n",
       "    <tr>\n",
       "      <th>1</th>\n",
       "      <td>2</td>\n",
       "      <td>Loan for any purpose £500 - £75,000. Homeowner...</td>\n",
       "      <td>Spam</td>\n",
       "      <td>loan for any purpose    homeowners  tenants we...</td>\n",
       "    </tr>\n",
       "    <tr>\n",
       "      <th>2</th>\n",
       "      <td>3</td>\n",
       "      <td>Congrats! Nokia 3650 video camera phone is you...</td>\n",
       "      <td>Spam</td>\n",
       "      <td>congrats nokia  video camera phone is your cal...</td>\n",
       "    </tr>\n",
       "    <tr>\n",
       "      <th>3</th>\n",
       "      <td>4</td>\n",
       "      <td>URGENT! Your Mobile number has been awarded wi...</td>\n",
       "      <td>Spam</td>\n",
       "      <td>urgent your mobile number has been awarded wit...</td>\n",
       "    </tr>\n",
       "    <tr>\n",
       "      <th>4</th>\n",
       "      <td>5</td>\n",
       "      <td>Someone has contacted our dating service and e...</td>\n",
       "      <td>Spam</td>\n",
       "      <td>someone has contacted our dating service and e...</td>\n",
       "    </tr>\n",
       "  </tbody>\n",
       "</table>\n",
       "</div>"
      ],
      "text/plain": [
       "   S. No.                                       Message_body Label  \\\n",
       "0       1  UpgrdCentre Orange customer, you may now claim...  Spam   \n",
       "1       2  Loan for any purpose £500 - £75,000. Homeowner...  Spam   \n",
       "2       3  Congrats! Nokia 3650 video camera phone is you...  Spam   \n",
       "3       4  URGENT! Your Mobile number has been awarded wi...  Spam   \n",
       "4       5  Someone has contacted our dating service and e...  Spam   \n",
       "\n",
       "                                    New_Message_body  \n",
       "0  upgrdcentre orange customer you may now claim ...  \n",
       "1  loan for any purpose    homeowners  tenants we...  \n",
       "2  congrats nokia  video camera phone is your cal...  \n",
       "3  urgent your mobile number has been awarded wit...  \n",
       "4  someone has contacted our dating service and e...  "
      ]
     },
     "execution_count": 11,
     "metadata": {},
     "output_type": "execute_result"
    }
   ],
   "source": [
    "df1.head()"
   ]
  },
  {
   "cell_type": "code",
   "execution_count": 12,
   "id": "4fdcd953",
   "metadata": {},
   "outputs": [],
   "source": [
    "#2.Tokenize"
   ]
  },
  {
   "cell_type": "code",
   "execution_count": 13,
   "id": "0e21e797",
   "metadata": {},
   "outputs": [],
   "source": [
    "#In Python tokenization basically refers to splitting up a larger body of text into smaller lines, \n",
    "#words or even creating words for a non-English language"
   ]
  },
  {
   "cell_type": "code",
   "execution_count": 14,
   "id": "57f8f190",
   "metadata": {},
   "outputs": [
    {
     "data": {
      "text/html": [
       "<div>\n",
       "<style scoped>\n",
       "    .dataframe tbody tr th:only-of-type {\n",
       "        vertical-align: middle;\n",
       "    }\n",
       "\n",
       "    .dataframe tbody tr th {\n",
       "        vertical-align: top;\n",
       "    }\n",
       "\n",
       "    .dataframe thead th {\n",
       "        text-align: right;\n",
       "    }\n",
       "</style>\n",
       "<table border=\"1\" class=\"dataframe\">\n",
       "  <thead>\n",
       "    <tr style=\"text-align: right;\">\n",
       "      <th></th>\n",
       "      <th>S. No.</th>\n",
       "      <th>Message_body</th>\n",
       "      <th>Label</th>\n",
       "      <th>New_Message_body</th>\n",
       "    </tr>\n",
       "  </thead>\n",
       "  <tbody>\n",
       "    <tr>\n",
       "      <th>0</th>\n",
       "      <td>1</td>\n",
       "      <td>UpgrdCentre Orange customer, you may now claim...</td>\n",
       "      <td>Spam</td>\n",
       "      <td>[upgrdcentre, orange, customer, you, may, now,...</td>\n",
       "    </tr>\n",
       "    <tr>\n",
       "      <th>1</th>\n",
       "      <td>2</td>\n",
       "      <td>Loan for any purpose £500 - £75,000. Homeowner...</td>\n",
       "      <td>Spam</td>\n",
       "      <td>[loan, for, any, purpose, , , , homeowners, , ...</td>\n",
       "    </tr>\n",
       "    <tr>\n",
       "      <th>2</th>\n",
       "      <td>3</td>\n",
       "      <td>Congrats! Nokia 3650 video camera phone is you...</td>\n",
       "      <td>Spam</td>\n",
       "      <td>[congrats, nokia, , video, camera, phone, is, ...</td>\n",
       "    </tr>\n",
       "    <tr>\n",
       "      <th>3</th>\n",
       "      <td>4</td>\n",
       "      <td>URGENT! Your Mobile number has been awarded wi...</td>\n",
       "      <td>Spam</td>\n",
       "      <td>[urgent, your, mobile, number, has, been, awar...</td>\n",
       "    </tr>\n",
       "    <tr>\n",
       "      <th>4</th>\n",
       "      <td>5</td>\n",
       "      <td>Someone has contacted our dating service and e...</td>\n",
       "      <td>Spam</td>\n",
       "      <td>[someone, has, contacted, our, dating, service...</td>\n",
       "    </tr>\n",
       "  </tbody>\n",
       "</table>\n",
       "</div>"
      ],
      "text/plain": [
       "   S. No.                                       Message_body Label  \\\n",
       "0       1  UpgrdCentre Orange customer, you may now claim...  Spam   \n",
       "1       2  Loan for any purpose £500 - £75,000. Homeowner...  Spam   \n",
       "2       3  Congrats! Nokia 3650 video camera phone is you...  Spam   \n",
       "3       4  URGENT! Your Mobile number has been awarded wi...  Spam   \n",
       "4       5  Someone has contacted our dating service and e...  Spam   \n",
       "\n",
       "                                    New_Message_body  \n",
       "0  [upgrdcentre, orange, customer, you, may, now,...  \n",
       "1  [loan, for, any, purpose, , , , homeowners, , ...  \n",
       "2  [congrats, nokia, , video, camera, phone, is, ...  \n",
       "3  [urgent, your, mobile, number, has, been, awar...  \n",
       "4  [someone, has, contacted, our, dating, service...  "
      ]
     },
     "execution_count": 14,
     "metadata": {},
     "output_type": "execute_result"
    }
   ],
   "source": [
    "df1['New_Message_body']=df1['New_Message_body'].str.split(' ')###str.split(' '): to split the words on the space between them to identify each word as token\n",
    "df1.head()"
   ]
  },
  {
   "cell_type": "code",
   "execution_count": 15,
   "id": "b3d23d8d",
   "metadata": {},
   "outputs": [],
   "source": [
    "#3. Removing Stopwords"
   ]
  },
  {
   "cell_type": "code",
   "execution_count": 16,
   "id": "08a7b92d",
   "metadata": {},
   "outputs": [],
   "source": [
    "#Stopwords are the English words which does not add much meaning to a sentence."
   ]
  },
  {
   "cell_type": "code",
   "execution_count": 17,
   "id": "86eb0e7a",
   "metadata": {},
   "outputs": [],
   "source": [
    "import nltk # natural language tool kit\n",
    "#nltk.download('stopwords') \n",
    "#used to import the stopwords\n",
    "#it will downlload a text file which will have stop words"
   ]
  },
  {
   "cell_type": "code",
   "execution_count": 18,
   "id": "8bfaffde",
   "metadata": {},
   "outputs": [],
   "source": [
    "common_stopwords=nltk.corpus.stopwords.words('english')#extracting only the english stopwords"
   ]
  },
  {
   "cell_type": "code",
   "execution_count": 19,
   "id": "2da81285",
   "metadata": {},
   "outputs": [
    {
     "name": "stdout",
     "output_type": "stream",
     "text": [
      "['i', 'me', 'my', 'myself', 'we', 'our', 'ours', 'ourselves', 'you', \"you're\", \"you've\", \"you'll\", \"you'd\", 'your', 'yours', 'yourself', 'yourselves', 'he', 'him', 'his', 'himself', 'she', \"she's\", 'her', 'hers', 'herself', 'it', \"it's\", 'its', 'itself', 'they', 'them', 'their', 'theirs', 'themselves', 'what', 'which', 'who', 'whom', 'this', 'that', \"that'll\", 'these', 'those', 'am', 'is', 'are', 'was', 'were', 'be', 'been', 'being', 'have', 'has', 'had', 'having', 'do', 'does', 'did', 'doing', 'a', 'an', 'the', 'and', 'but', 'if', 'or', 'because', 'as', 'until', 'while', 'of', 'at', 'by', 'for', 'with', 'about', 'against', 'between', 'into', 'through', 'during', 'before', 'after', 'above', 'below', 'to', 'from', 'up', 'down', 'in', 'out', 'on', 'off', 'over', 'under', 'again', 'further', 'then', 'once', 'here', 'there', 'when', 'where', 'why', 'how', 'all', 'any', 'both', 'each', 'few', 'more', 'most', 'other', 'some', 'such', 'no', 'nor', 'not', 'only', 'own', 'same', 'so', 'than', 'too', 'very', 's', 't', 'can', 'will', 'just', 'don', \"don't\", 'should', \"should've\", 'now', 'd', 'll', 'm', 'o', 're', 've', 'y', 'ain', 'aren', \"aren't\", 'couldn', \"couldn't\", 'didn', \"didn't\", 'doesn', \"doesn't\", 'hadn', \"hadn't\", 'hasn', \"hasn't\", 'haven', \"haven't\", 'isn', \"isn't\", 'ma', 'mightn', \"mightn't\", 'mustn', \"mustn't\", 'needn', \"needn't\", 'shan', \"shan't\", 'shouldn', \"shouldn't\", 'wasn', \"wasn't\", 'weren', \"weren't\", 'won', \"won't\", 'wouldn', \"wouldn't\"]\n"
     ]
    }
   ],
   "source": [
    "print(common_stopwords)"
   ]
  },
  {
   "cell_type": "code",
   "execution_count": 20,
   "id": "46464f2d",
   "metadata": {},
   "outputs": [
    {
     "data": {
      "text/plain": [
       "179"
      ]
     },
     "execution_count": 20,
     "metadata": {},
     "output_type": "execute_result"
    }
   ],
   "source": [
    "len(common_stopwords)"
   ]
  },
  {
   "cell_type": "code",
   "execution_count": 21,
   "id": "e16b77bb",
   "metadata": {},
   "outputs": [],
   "source": [
    "def dropstop_words(text):\n",
    "    return [word for word in text if word not in common_stopwords]"
   ]
  },
  {
   "cell_type": "code",
   "execution_count": 22,
   "id": "d0336103",
   "metadata": {},
   "outputs": [],
   "source": [
    "df1['New_Message_body']=df1['New_Message_body'].apply(dropstop_words)"
   ]
  },
  {
   "cell_type": "code",
   "execution_count": 23,
   "id": "6f8b57ea",
   "metadata": {},
   "outputs": [
    {
     "data": {
      "text/html": [
       "<div>\n",
       "<style scoped>\n",
       "    .dataframe tbody tr th:only-of-type {\n",
       "        vertical-align: middle;\n",
       "    }\n",
       "\n",
       "    .dataframe tbody tr th {\n",
       "        vertical-align: top;\n",
       "    }\n",
       "\n",
       "    .dataframe thead th {\n",
       "        text-align: right;\n",
       "    }\n",
       "</style>\n",
       "<table border=\"1\" class=\"dataframe\">\n",
       "  <thead>\n",
       "    <tr style=\"text-align: right;\">\n",
       "      <th></th>\n",
       "      <th>S. No.</th>\n",
       "      <th>Message_body</th>\n",
       "      <th>Label</th>\n",
       "      <th>New_Message_body</th>\n",
       "    </tr>\n",
       "  </thead>\n",
       "  <tbody>\n",
       "    <tr>\n",
       "      <th>0</th>\n",
       "      <td>1</td>\n",
       "      <td>UpgrdCentre Orange customer, you may now claim...</td>\n",
       "      <td>Spam</td>\n",
       "      <td>[upgrdcentre, orange, customer, may, claim, fr...</td>\n",
       "    </tr>\n",
       "    <tr>\n",
       "      <th>1</th>\n",
       "      <td>2</td>\n",
       "      <td>Loan for any purpose £500 - £75,000. Homeowner...</td>\n",
       "      <td>Spam</td>\n",
       "      <td>[loan, purpose, , , , homeowners, , tenants, w...</td>\n",
       "    </tr>\n",
       "    <tr>\n",
       "      <th>2</th>\n",
       "      <td>3</td>\n",
       "      <td>Congrats! Nokia 3650 video camera phone is you...</td>\n",
       "      <td>Spam</td>\n",
       "      <td>[congrats, nokia, , video, camera, phone, call...</td>\n",
       "    </tr>\n",
       "    <tr>\n",
       "      <th>3</th>\n",
       "      <td>4</td>\n",
       "      <td>URGENT! Your Mobile number has been awarded wi...</td>\n",
       "      <td>Spam</td>\n",
       "      <td>[urgent, mobile, number, awarded, , prize, gua...</td>\n",
       "    </tr>\n",
       "    <tr>\n",
       "      <th>4</th>\n",
       "      <td>5</td>\n",
       "      <td>Someone has contacted our dating service and e...</td>\n",
       "      <td>Spam</td>\n",
       "      <td>[someone, contacted, dating, service, entered,...</td>\n",
       "    </tr>\n",
       "  </tbody>\n",
       "</table>\n",
       "</div>"
      ],
      "text/plain": [
       "   S. No.                                       Message_body Label  \\\n",
       "0       1  UpgrdCentre Orange customer, you may now claim...  Spam   \n",
       "1       2  Loan for any purpose £500 - £75,000. Homeowner...  Spam   \n",
       "2       3  Congrats! Nokia 3650 video camera phone is you...  Spam   \n",
       "3       4  URGENT! Your Mobile number has been awarded wi...  Spam   \n",
       "4       5  Someone has contacted our dating service and e...  Spam   \n",
       "\n",
       "                                    New_Message_body  \n",
       "0  [upgrdcentre, orange, customer, may, claim, fr...  \n",
       "1  [loan, purpose, , , , homeowners, , tenants, w...  \n",
       "2  [congrats, nokia, , video, camera, phone, call...  \n",
       "3  [urgent, mobile, number, awarded, , prize, gua...  \n",
       "4  [someone, contacted, dating, service, entered,...  "
      ]
     },
     "execution_count": 23,
     "metadata": {},
     "output_type": "execute_result"
    }
   ],
   "source": [
    "df1.head()"
   ]
  },
  {
   "cell_type": "code",
   "execution_count": 24,
   "id": "696e3663",
   "metadata": {},
   "outputs": [],
   "source": [
    "# 4. Lemmatization"
   ]
  },
  {
   "cell_type": "code",
   "execution_count": 25,
   "id": "b15a4a46",
   "metadata": {},
   "outputs": [],
   "source": [
    "from nltk.stem.wordnet import WordNetLemmatizer\n",
    "Lemmatizer=WordNetLemmatizer()"
   ]
  },
  {
   "cell_type": "code",
   "execution_count": 26,
   "id": "2fe5a63d",
   "metadata": {},
   "outputs": [],
   "source": [
    "def Lemmatization(text):\n",
    "    return [Lemmatizer.lemmatize(word) for word in text]"
   ]
  },
  {
   "cell_type": "code",
   "execution_count": 27,
   "id": "f619c29d",
   "metadata": {},
   "outputs": [],
   "source": [
    "df1['New_Message_body']=df1['New_Message_body'].apply(Lemmatization)"
   ]
  },
  {
   "cell_type": "code",
   "execution_count": 28,
   "id": "ae533573",
   "metadata": {},
   "outputs": [
    {
     "data": {
      "text/html": [
       "<div>\n",
       "<style scoped>\n",
       "    .dataframe tbody tr th:only-of-type {\n",
       "        vertical-align: middle;\n",
       "    }\n",
       "\n",
       "    .dataframe tbody tr th {\n",
       "        vertical-align: top;\n",
       "    }\n",
       "\n",
       "    .dataframe thead th {\n",
       "        text-align: right;\n",
       "    }\n",
       "</style>\n",
       "<table border=\"1\" class=\"dataframe\">\n",
       "  <thead>\n",
       "    <tr style=\"text-align: right;\">\n",
       "      <th></th>\n",
       "      <th>S. No.</th>\n",
       "      <th>Message_body</th>\n",
       "      <th>Label</th>\n",
       "      <th>New_Message_body</th>\n",
       "    </tr>\n",
       "  </thead>\n",
       "  <tbody>\n",
       "    <tr>\n",
       "      <th>0</th>\n",
       "      <td>1</td>\n",
       "      <td>UpgrdCentre Orange customer, you may now claim...</td>\n",
       "      <td>Spam</td>\n",
       "      <td>[upgrdcentre, orange, customer, may, claim, fr...</td>\n",
       "    </tr>\n",
       "    <tr>\n",
       "      <th>1</th>\n",
       "      <td>2</td>\n",
       "      <td>Loan for any purpose £500 - £75,000. Homeowner...</td>\n",
       "      <td>Spam</td>\n",
       "      <td>[loan, purpose, , , , homeowner, , tenant, wel...</td>\n",
       "    </tr>\n",
       "    <tr>\n",
       "      <th>2</th>\n",
       "      <td>3</td>\n",
       "      <td>Congrats! Nokia 3650 video camera phone is you...</td>\n",
       "      <td>Spam</td>\n",
       "      <td>[congrats, nokia, , video, camera, phone, call...</td>\n",
       "    </tr>\n",
       "    <tr>\n",
       "      <th>3</th>\n",
       "      <td>4</td>\n",
       "      <td>URGENT! Your Mobile number has been awarded wi...</td>\n",
       "      <td>Spam</td>\n",
       "      <td>[urgent, mobile, number, awarded, , prize, gua...</td>\n",
       "    </tr>\n",
       "    <tr>\n",
       "      <th>4</th>\n",
       "      <td>5</td>\n",
       "      <td>Someone has contacted our dating service and e...</td>\n",
       "      <td>Spam</td>\n",
       "      <td>[someone, contacted, dating, service, entered,...</td>\n",
       "    </tr>\n",
       "  </tbody>\n",
       "</table>\n",
       "</div>"
      ],
      "text/plain": [
       "   S. No.                                       Message_body Label  \\\n",
       "0       1  UpgrdCentre Orange customer, you may now claim...  Spam   \n",
       "1       2  Loan for any purpose £500 - £75,000. Homeowner...  Spam   \n",
       "2       3  Congrats! Nokia 3650 video camera phone is you...  Spam   \n",
       "3       4  URGENT! Your Mobile number has been awarded wi...  Spam   \n",
       "4       5  Someone has contacted our dating service and e...  Spam   \n",
       "\n",
       "                                    New_Message_body  \n",
       "0  [upgrdcentre, orange, customer, may, claim, fr...  \n",
       "1  [loan, purpose, , , , homeowner, , tenant, wel...  \n",
       "2  [congrats, nokia, , video, camera, phone, call...  \n",
       "3  [urgent, mobile, number, awarded, , prize, gua...  \n",
       "4  [someone, contacted, dating, service, entered,...  "
      ]
     },
     "execution_count": 28,
     "metadata": {},
     "output_type": "execute_result"
    }
   ],
   "source": [
    "df1.head()"
   ]
  },
  {
   "cell_type": "code",
   "execution_count": 29,
   "id": "c47ad6bd",
   "metadata": {},
   "outputs": [],
   "source": [
    "# 5 .Cleaning the text"
   ]
  },
  {
   "cell_type": "code",
   "execution_count": 30,
   "id": "26d1c386",
   "metadata": {},
   "outputs": [],
   "source": [
    "df1['New_Message_body']=df1['New_Message_body'].apply(lambda x: ' '.join(x))"
   ]
  },
  {
   "cell_type": "code",
   "execution_count": 31,
   "id": "27b1e67a",
   "metadata": {},
   "outputs": [
    {
     "data": {
      "text/html": [
       "<div>\n",
       "<style scoped>\n",
       "    .dataframe tbody tr th:only-of-type {\n",
       "        vertical-align: middle;\n",
       "    }\n",
       "\n",
       "    .dataframe tbody tr th {\n",
       "        vertical-align: top;\n",
       "    }\n",
       "\n",
       "    .dataframe thead th {\n",
       "        text-align: right;\n",
       "    }\n",
       "</style>\n",
       "<table border=\"1\" class=\"dataframe\">\n",
       "  <thead>\n",
       "    <tr style=\"text-align: right;\">\n",
       "      <th></th>\n",
       "      <th>S. No.</th>\n",
       "      <th>Message_body</th>\n",
       "      <th>Label</th>\n",
       "      <th>New_Message_body</th>\n",
       "    </tr>\n",
       "  </thead>\n",
       "  <tbody>\n",
       "    <tr>\n",
       "      <th>0</th>\n",
       "      <td>1</td>\n",
       "      <td>UpgrdCentre Orange customer, you may now claim...</td>\n",
       "      <td>Spam</td>\n",
       "      <td>upgrdcentre orange customer may claim free cam...</td>\n",
       "    </tr>\n",
       "    <tr>\n",
       "      <th>1</th>\n",
       "      <td>2</td>\n",
       "      <td>Loan for any purpose £500 - £75,000. Homeowner...</td>\n",
       "      <td>Spam</td>\n",
       "      <td>loan purpose    homeowner  tenant welcome prev...</td>\n",
       "    </tr>\n",
       "    <tr>\n",
       "      <th>2</th>\n",
       "      <td>3</td>\n",
       "      <td>Congrats! Nokia 3650 video camera phone is you...</td>\n",
       "      <td>Spam</td>\n",
       "      <td>congrats nokia  video camera phone call  call ...</td>\n",
       "    </tr>\n",
       "    <tr>\n",
       "      <th>3</th>\n",
       "      <td>4</td>\n",
       "      <td>URGENT! Your Mobile number has been awarded wi...</td>\n",
       "      <td>Spam</td>\n",
       "      <td>urgent mobile number awarded  prize guaranteed...</td>\n",
       "    </tr>\n",
       "    <tr>\n",
       "      <th>4</th>\n",
       "      <td>5</td>\n",
       "      <td>Someone has contacted our dating service and e...</td>\n",
       "      <td>Spam</td>\n",
       "      <td>someone contacted dating service entered phone...</td>\n",
       "    </tr>\n",
       "  </tbody>\n",
       "</table>\n",
       "</div>"
      ],
      "text/plain": [
       "   S. No.                                       Message_body Label  \\\n",
       "0       1  UpgrdCentre Orange customer, you may now claim...  Spam   \n",
       "1       2  Loan for any purpose £500 - £75,000. Homeowner...  Spam   \n",
       "2       3  Congrats! Nokia 3650 video camera phone is you...  Spam   \n",
       "3       4  URGENT! Your Mobile number has been awarded wi...  Spam   \n",
       "4       5  Someone has contacted our dating service and e...  Spam   \n",
       "\n",
       "                                    New_Message_body  \n",
       "0  upgrdcentre orange customer may claim free cam...  \n",
       "1  loan purpose    homeowner  tenant welcome prev...  \n",
       "2  congrats nokia  video camera phone call  call ...  \n",
       "3  urgent mobile number awarded  prize guaranteed...  \n",
       "4  someone contacted dating service entered phone...  "
      ]
     },
     "execution_count": 31,
     "metadata": {},
     "output_type": "execute_result"
    }
   ],
   "source": [
    "df1.head()"
   ]
  },
  {
   "cell_type": "code",
   "execution_count": 32,
   "id": "18355ed1",
   "metadata": {},
   "outputs": [
    {
     "data": {
      "text/html": [
       "<div>\n",
       "<style scoped>\n",
       "    .dataframe tbody tr th:only-of-type {\n",
       "        vertical-align: middle;\n",
       "    }\n",
       "\n",
       "    .dataframe tbody tr th {\n",
       "        vertical-align: top;\n",
       "    }\n",
       "\n",
       "    .dataframe thead th {\n",
       "        text-align: right;\n",
       "    }\n",
       "</style>\n",
       "<table border=\"1\" class=\"dataframe\">\n",
       "  <thead>\n",
       "    <tr style=\"text-align: right;\">\n",
       "      <th></th>\n",
       "      <th>Label</th>\n",
       "      <th>New_Message_body</th>\n",
       "    </tr>\n",
       "  </thead>\n",
       "  <tbody>\n",
       "    <tr>\n",
       "      <th>0</th>\n",
       "      <td>Spam</td>\n",
       "      <td>upgrdcentre orange customer may claim free cam...</td>\n",
       "    </tr>\n",
       "    <tr>\n",
       "      <th>1</th>\n",
       "      <td>Spam</td>\n",
       "      <td>loan purpose    homeowner  tenant welcome prev...</td>\n",
       "    </tr>\n",
       "    <tr>\n",
       "      <th>2</th>\n",
       "      <td>Spam</td>\n",
       "      <td>congrats nokia  video camera phone call  call ...</td>\n",
       "    </tr>\n",
       "    <tr>\n",
       "      <th>3</th>\n",
       "      <td>Spam</td>\n",
       "      <td>urgent mobile number awarded  prize guaranteed...</td>\n",
       "    </tr>\n",
       "    <tr>\n",
       "      <th>4</th>\n",
       "      <td>Spam</td>\n",
       "      <td>someone contacted dating service entered phone...</td>\n",
       "    </tr>\n",
       "  </tbody>\n",
       "</table>\n",
       "</div>"
      ],
      "text/plain": [
       "  Label                                   New_Message_body\n",
       "0  Spam  upgrdcentre orange customer may claim free cam...\n",
       "1  Spam  loan purpose    homeowner  tenant welcome prev...\n",
       "2  Spam  congrats nokia  video camera phone call  call ...\n",
       "3  Spam  urgent mobile number awarded  prize guaranteed...\n",
       "4  Spam  someone contacted dating service entered phone..."
      ]
     },
     "execution_count": 32,
     "metadata": {},
     "output_type": "execute_result"
    }
   ],
   "source": [
    "df2=df1.iloc[:,2:]\n",
    "df2.head()"
   ]
  },
  {
   "cell_type": "code",
   "execution_count": 33,
   "id": "b192b3a8",
   "metadata": {},
   "outputs": [
    {
     "data": {
      "text/plain": [
       "Spam        76\n",
       "Non-Spam    49\n",
       "Name: Label, dtype: int64"
      ]
     },
     "execution_count": 33,
     "metadata": {},
     "output_type": "execute_result"
    }
   ],
   "source": [
    "df2['Label'].value_counts()"
   ]
  },
  {
   "cell_type": "code",
   "execution_count": 34,
   "id": "e465fc07",
   "metadata": {},
   "outputs": [],
   "source": [
    "df2['Label']=df2['Label'].replace('Spam',0)\n",
    "df2['Label']=df2['Label'].replace('Non-Spam',1)"
   ]
  },
  {
   "cell_type": "code",
   "execution_count": 35,
   "id": "fa1fc139",
   "metadata": {},
   "outputs": [
    {
     "data": {
      "text/plain": [
       "0    76\n",
       "1    49\n",
       "Name: Label, dtype: int64"
      ]
     },
     "execution_count": 35,
     "metadata": {},
     "output_type": "execute_result"
    }
   ],
   "source": [
    "df2['Label'].value_counts()"
   ]
  },
  {
   "cell_type": "code",
   "execution_count": 36,
   "id": "067ba3ea",
   "metadata": {},
   "outputs": [],
   "source": [
    "#Vectorizing"
   ]
  },
  {
   "cell_type": "code",
   "execution_count": 37,
   "id": "c5256ba5",
   "metadata": {},
   "outputs": [],
   "source": [
    "from sklearn.feature_extraction.text import CountVectorizer "
   ]
  },
  {
   "cell_type": "code",
   "execution_count": 38,
   "id": "238ee337",
   "metadata": {},
   "outputs": [],
   "source": [
    "cv = CountVectorizer(max_features=1500, analyzer='word', lowercase=False) "
   ]
  },
  {
   "cell_type": "code",
   "execution_count": 39,
   "id": "0f295144",
   "metadata": {},
   "outputs": [],
   "source": [
    "X = cv.fit_transform(df2['New_Message_body'])"
   ]
  },
  {
   "cell_type": "code",
   "execution_count": 40,
   "id": "8167e4fc",
   "metadata": {},
   "outputs": [],
   "source": [
    "Y=df2['Label']"
   ]
  },
  {
   "cell_type": "code",
   "execution_count": 41,
   "id": "9e20a955",
   "metadata": {},
   "outputs": [],
   "source": [
    "from sklearn.model_selection import train_test_split"
   ]
  },
  {
   "cell_type": "code",
   "execution_count": 42,
   "id": "5309724b",
   "metadata": {},
   "outputs": [],
   "source": [
    "x_tain,x_test,y_train,y_test=train_test_split(X, Y, test_size=0.3, random_state=42)"
   ]
  },
  {
   "cell_type": "code",
   "execution_count": 43,
   "id": "14bf4101",
   "metadata": {},
   "outputs": [],
   "source": [
    "#1. Decision Tree Classifier"
   ]
  },
  {
   "cell_type": "code",
   "execution_count": 44,
   "id": "90825c4c",
   "metadata": {},
   "outputs": [],
   "source": [
    "from sklearn.tree import DecisionTreeClassifier\n",
    "# instantiate the 'DecisionTreeClassifier' object using 'entropy' criterion\n",
    "# pass the 'random_state' to obtain the same samples for each time you run the code\n",
    "decision_tree_classification = DecisionTreeClassifier(max_depth = 4, criterion = 'gini', random_state = 10)\n",
    "\n",
    "# fit the model using fit() on train data\n",
    "decision_tree = decision_tree_classification.fit(x_tain,y_train)"
   ]
  },
  {
   "cell_type": "code",
   "execution_count": 45,
   "id": "eb79a915",
   "metadata": {},
   "outputs": [
    {
     "data": {
      "image/png": "[encoded data removed]",
      "text/plain": [
       "<Figure size 1080x720 with 1 Axes>"
      ]
     },
     "metadata": {
      "needs_background": "light"
     },
     "output_type": "display_data"
    }
   ],
   "source": [
    "from sklearn import tree\n",
    "plt.figure(figsize=(15,10))\n",
    "tree.plot_tree(decision_tree,filled=True)\n",
    "plt.show()"
   ]
  },
  {
   "cell_type": "code",
   "execution_count": 46,
   "id": "1b665924",
   "metadata": {},
   "outputs": [
    {
     "name": "stdout",
     "output_type": "stream",
     "text": [
      "Accuracy of Decision Tree Classifier: 0.7368421052631579\n"
     ]
    }
   ],
   "source": [
    "# apply the model on unseen testing data\n",
    "dt_preds = decision_tree_classification.predict(x_test)\n",
    "from sklearn import metrics\n",
    "print(\"Accuracy of Decision Tree Classifier:\", metrics.accuracy_score(y_test, dt_preds))"
   ]
  },
  {
   "cell_type": "code",
   "execution_count": 47,
   "id": "952e1d21",
   "metadata": {},
   "outputs": [
    {
     "name": "stdout",
     "output_type": "stream",
     "text": [
      "              precision    recall  f1-score   support\n",
      "\n",
      "           0       0.93      0.61      0.74        23\n",
      "           1       0.61      0.93      0.74        15\n",
      "\n",
      "    accuracy                           0.74        38\n",
      "   macro avg       0.77      0.77      0.74        38\n",
      "weighted avg       0.81      0.74      0.74        38\n",
      "\n"
     ]
    }
   ],
   "source": [
    "from sklearn.metrics import classification_report\n",
    "# compute the performance measures on test data\n",
    "# call the function 'get_test_report'\n",
    "test_report_dt = classification_report(y_test, dt_preds)\n",
    "# print the performace measures\n",
    "print(test_report_dt)"
   ]
  },
  {
   "cell_type": "code",
   "execution_count": 48,
   "id": "0c7aff75",
   "metadata": {},
   "outputs": [],
   "source": [
    "#2. Random Forest Classifier"
   ]
  },
  {
   "cell_type": "code",
   "execution_count": 49,
   "id": "baea3267",
   "metadata": {},
   "outputs": [],
   "source": [
    "from sklearn.ensemble import RandomForestClassifier"
   ]
  },
  {
   "cell_type": "code",
   "execution_count": 50,
   "id": "c227735d",
   "metadata": {},
   "outputs": [],
   "source": [
    "Random_Forest_Classifier=RandomForestClassifier()\n",
    "# fit the model using fit() on train data\n",
    "Random_Forest = Random_Forest_Classifier.fit(x_tain,y_train)"
   ]
  },
  {
   "cell_type": "code",
   "execution_count": 51,
   "id": "f6a5c269",
   "metadata": {},
   "outputs": [
    {
     "name": "stdout",
     "output_type": "stream",
     "text": [
      "Accuracy of Random Forest Classifier: 0.8947368421052632\n"
     ]
    }
   ],
   "source": [
    "# apply the model on unseen testing data\n",
    "Rf_preds = Random_Forest_Classifier.predict(x_test)\n",
    "from sklearn import metrics\n",
    "print(\"Accuracy of Random Forest Classifier:\", metrics.accuracy_score(y_test, Rf_preds))"
   ]
  },
  {
   "cell_type": "code",
   "execution_count": 52,
   "id": "8a332ad7",
   "metadata": {},
   "outputs": [
    {
     "name": "stdout",
     "output_type": "stream",
     "text": [
      "              precision    recall  f1-score   support\n",
      "\n",
      "           0       0.95      0.87      0.91        23\n",
      "           1       0.82      0.93      0.87        15\n",
      "\n",
      "    accuracy                           0.89        38\n",
      "   macro avg       0.89      0.90      0.89        38\n",
      "weighted avg       0.90      0.89      0.90        38\n",
      "\n"
     ]
    }
   ],
   "source": [
    "from sklearn.metrics import classification_report\n",
    "# compute the performance measures on test data\n",
    "# call the function 'get_test_report'\n",
    "test_report_rf = classification_report(y_test, Rf_preds)\n",
    "# print the performace measures\n",
    "print(test_report_rf)"
   ]
  },
  {
   "cell_type": "code",
   "execution_count": 53,
   "id": "5e8637e5",
   "metadata": {},
   "outputs": [],
   "source": [
    "#---------------------------------------------------------END-------------------------------------------------#"
   ]
  }
 ],
 "metadata": {
  "kernelspec": {
   "display_name": "Python 3",
   "language": "python",
   "name": "python3"
  },
  "language_info": {
   "codemirror_mode": {
    "name": "ipython",
    "version": 3
   },
   "file_extension": ".py",
   "mimetype": "text/x-python",
   "name": "python",
   "nbconvert_exporter": "python",
   "pygments_lexer": "ipython3",
   "version": "3.6.13"
  }
 },
 "nbformat": 4,
 "nbformat_minor": 5
}
